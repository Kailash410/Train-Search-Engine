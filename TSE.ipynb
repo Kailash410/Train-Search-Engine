{
 "cells": [
  {
   "cell_type": "code",
   "execution_count": 9,
   "metadata": {
    "scrolled": true
   },
   "outputs": [
    {
     "name": "stdout",
     "output_type": "stream",
     "text": [
      "Following are all different paths from bangalore to mangalore :\n",
      "\n",
      "\n",
      "bangalore madikeri 1300 1400 Tippu Express\n",
      "madikeri puttur 1430 1530 Tippu Express\n",
      "puttur mangalore 1600 1700 Tippu Express\n",
      "\n",
      "\n",
      "bangalore madikeri 1300 1400 Tippu Express\n",
      "madikeri mysore 1430 1530 K R Express\n",
      "mysore mangalore 1600 1700 Mysore Express\n",
      "\n"
     ]
    }
   ],
   "source": [
    "#Train search engine \n",
    "from collections import defaultdict    \n",
    "class Graph: \n",
    "    def __init__(self,vertices): \n",
    "        self.V= vertices  \n",
    "        self.graph = defaultdict(list)  \n",
    "        \n",
    "    def addEdge(self,u,v,dt,at,tn): \n",
    "        self.graph[u].append([v,dt,at,tn]) \n",
    "        \n",
    "    def printAllPathsUtil(self, u, d, visited, path,at): \n",
    "        #print(u)\n",
    "        visited[u]= True\n",
    "        #print(visited)\n",
    "        path.append(u) \n",
    "        if u ==d: \n",
    "            #print (path) \n",
    "            print()\n",
    "            for x,y in zip(path[:-1],path[1:]):\n",
    "                for i in self.graph[x]:\n",
    "                    if y==i[0]:\n",
    "                        dep=i[1]\n",
    "                        arr=i[2]\n",
    "                        tname=i[3]\n",
    "                print(x,y,dep,arr,tname)\n",
    "            print()    \n",
    "        else: \n",
    "            for i in self.graph[u]: \n",
    "                #print(i,i[0],i[1],i[2])\n",
    "                if visited[i[0]]==False and at<i[1]: \n",
    "                    self.printAllPathsUtil(i[0], d, visited, path,i[2])              \n",
    "        path.pop() \n",
    "        visited[u]= False\n",
    "        \n",
    "    def printAllPaths(self,s, d): \n",
    "        visited ={}\n",
    "        cities=[\"mysore\",\"mandya\",\"madikeri\",\"puttur\",\"bangalore\",\"mangalore\"]\n",
    "        for i in cities:\n",
    "            visited[i]=False    \n",
    "        path = []\n",
    "        self.printAllPathsUtil(s, d,visited, path,0) \n",
    "   \n",
    "   \n",
    "   \n",
    "g = Graph(6) \n",
    "g.addEdge(\"mysore\",\"mandya\",1000,1100,\"Tippu Express\") \n",
    "g.addEdge(\"mandya\",\"bangalore\",1130 ,1230,\"Tippu Express\") \n",
    "g.addEdge(\"bangalore\",\"madikeri\",1300 ,1400,\"Tippu Express\") \n",
    "g.addEdge(\"madikeri\",\"puttur\", 1430,1530,\"Tippu Express\") \n",
    "g.addEdge(\"puttur\",\"mangalore\",1600 ,1700,\"Tippu Express\")\n",
    "\n",
    "g.addEdge(\"mangalore\",\"bangalore\",1800 ,1900,\"Mangalore Express\") \n",
    "g.addEdge(\"bangalore\",\"mandya\",1930 ,2030,\"Mangalore Express\") \n",
    "g.addEdge(\"mandya\",\"mysore\",2100 ,2200,\"Mangalore  Express\") \n",
    "\n",
    "g.addEdge(\"madikeri\",\"mysore\",1430 ,1530,\"K R Express\") \n",
    "\n",
    "g.addEdge(\"mysore\",\"mangalore\",1600,1700,\"Mysore Express\")\n",
    "g.addEdge(\"mangalore\",\"puttur\",1730,1830,\"Mysore Express\")\n",
    "g.addEdge(\"puttur\",\"mandya\",1900,2000,\"Mysore Express\")\n",
    "g.addEdge(\"mandya\",\"bangalore\",2030,2130,\"Mysore Express\")\n",
    " \n",
    "\n",
    "#print( g.__dict__ )  \n",
    "d= \"mangalore\"\n",
    "s= \"bangalore\" \n",
    "\n",
    "print (\"Following are all different paths from %s to %s :\\n\" %(s, d)) \n",
    "g.printAllPaths(s, d) \n"
   ]
  },
  {
   "cell_type": "code",
   "execution_count": null,
   "metadata": {},
   "outputs": [],
   "source": []
  }
 ],
 "metadata": {
  "kernelspec": {
   "display_name": "Python 3",
   "language": "python",
   "name": "python3"
  },
  "language_info": {
   "codemirror_mode": {
    "name": "ipython",
    "version": 3
   },
   "file_extension": ".py",
   "mimetype": "text/x-python",
   "name": "python",
   "nbconvert_exporter": "python",
   "pygments_lexer": "ipython3",
   "version": "3.6.5"
  }
 },
 "nbformat": 4,
 "nbformat_minor": 2
}
